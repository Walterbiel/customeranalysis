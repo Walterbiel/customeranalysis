{
 "cells": [
  {
   "cell_type": "code",
   "execution_count": 2,
   "metadata": {},
   "outputs": [],
   "source": [
    "import pandas as pd\n",
    "from sqlalchemy import create_engine\n",
    "import pyodbc"
   ]
  },
  {
   "cell_type": "code",
   "execution_count": 12,
   "metadata": {},
   "outputs": [],
   "source": [
    "# Defina os parâmetros de conexão\n",
    "server = 'localhost'\n",
    "database = 'customeranalysis'\n",
    "driver = 'ODBC Driver 17 for SQL Server'\n",
    "databasecon = f'mssql://@{server}/{database}?driver={driver}'\n",
    "\n",
    "engine = create_engine(databasecon)\n",
    "con = engine.connect()\n",
    "\n",
    "# Leia o arquivo CSV para um DataFrame\n",
    "customer = pd.read_csv('customer_data.csv')\n",
    "sales = pd.read_csv('sales_data.csv')\n"
   ]
  },
  {
   "cell_type": "code",
   "execution_count": 15,
   "metadata": {},
   "outputs": [
    {
     "name": "stdout",
     "output_type": "stream",
     "text": [
      "customer table was sucesfull inserted\n",
      "sales table was sucesfull inserted\n"
     ]
    }
   ],
   "source": [
    "customer.to_sql(name='customer', con=engine, if_exists='replace',\n",
    "           index_label='id')\n",
    "print('customer table was sucesfull inserted')\n",
    "\n",
    "sales.to_sql(name='sales', con=engine, if_exists='replace',\n",
    "           index_label='id')\n",
    "\n",
    "print('sales table was sucesfull inserted')"
   ]
  },
  {
   "cell_type": "code",
   "execution_count": null,
   "metadata": {},
   "outputs": [],
   "source": []
  }
 ],
 "metadata": {
  "kernelspec": {
   "display_name": ".venv",
   "language": "python",
   "name": "python3"
  },
  "language_info": {
   "codemirror_mode": {
    "name": "ipython",
    "version": 3
   },
   "file_extension": ".py",
   "mimetype": "text/x-python",
   "name": "python",
   "nbconvert_exporter": "python",
   "pygments_lexer": "ipython3",
   "version": "3.12.1"
  }
 },
 "nbformat": 4,
 "nbformat_minor": 2
}
