{
 "cells": [
  {
   "cell_type": "code",
   "execution_count": 2,
   "metadata": {},
   "outputs": [],
   "source": [
    "import pandas as pd\n",
    "from sqlalchemy import create_engine\n",
    "import pyodbc"
   ]
  },
  {
   "cell_type": "code",
   "execution_count": 3,
   "metadata": {},
   "outputs": [
    {
     "name": "stderr",
     "output_type": "stream",
     "text": [
      "C:\\Users\\walte\\AppData\\Local\\Temp\\ipykernel_19556\\2150081150.py:12: DtypeWarning: Columns (14) have mixed types. Specify dtype option on import or set low_memory=False.\n",
      "  customer = pd.read_csv('customer.csv')\n"
     ]
    }
   ],
   "source": [
    "#Contoso Dataset - https://github.com/sql-bi/Contoso-Data-Generator-V2-Data/releases/tag/ready-to-use-data\n",
    "\n",
    "# parametros db\n",
    "server = 'localhost'\n",
    "database = 'customeranalysis'\n",
    "driver = 'ODBC Driver 17 for SQL Server'\n",
    "databasecon = f'mssql://@{server}/{database}?driver={driver}'\n",
    "\n",
    "engine = create_engine(databasecon)\n",
    "con = engine.connect()\n",
    "\n",
    "# extração arquivos\n",
    "currency = pd.read_csv('currencyexchange.csv')\n",
    "customer = pd.read_csv('customer.csv')\n",
    "product = pd.read_csv('product.csv')\n",
    "sales = pd.read_csv('sales.csv')\n",
    "store = pd.read_csv('store.csv')"
   ]
  },
  {
   "cell_type": "code",
   "execution_count": 4,
   "metadata": {},
   "outputs": [
    {
     "name": "stdout",
     "output_type": "stream",
     "text": [
      "customer table was sucesfull inserted\n",
      "sales table was sucesfull inserted\n",
      "product table was sucesfull inserted\n",
      "store table was sucesfull inserted\n",
      "currency table was sucesfull inserted\n"
     ]
    }
   ],
   "source": [
    "#salvando como tabela sql (sql server local host)\n",
    "\n",
    "#customer\n",
    "customer.to_sql(name='customer', con=engine, if_exists='replace',index_label='id')\n",
    "print('customer table was sucesfull inserted')\n",
    "#sales\n",
    "sales.to_sql(name='sales', con=engine, if_exists='replace',index_label='id')\n",
    "print('sales table was sucesfull inserted')\n",
    "#product\n",
    "product.to_sql(name='product', con=engine, if_exists='replace',index_label='id')\n",
    "print('product table was sucesfull inserted')\n",
    "#store\n",
    "store.to_sql(name='store', con=engine, if_exists='replace',index_label='id')\n",
    "print('store table was sucesfull inserted')\n",
    "#currency\n",
    "currency.to_sql(name='currency', con=engine, if_exists='replace',index_label='id')\n",
    "print('currency table was sucesfull inserted')"
   ]
  },
  {
   "cell_type": "code",
   "execution_count": null,
   "metadata": {},
   "outputs": [],
   "source": []
  }
 ],
 "metadata": {
  "kernelspec": {
   "display_name": ".venv",
   "language": "python",
   "name": "python3"
  },
  "language_info": {
   "codemirror_mode": {
    "name": "ipython",
    "version": 3
   },
   "file_extension": ".py",
   "mimetype": "text/x-python",
   "name": "python",
   "nbconvert_exporter": "python",
   "pygments_lexer": "ipython3",
   "version": "3.12.1"
  }
 },
 "nbformat": 4,
 "nbformat_minor": 2
}
